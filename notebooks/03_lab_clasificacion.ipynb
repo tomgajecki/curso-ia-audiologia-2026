{
  "cells": [
    {
      "cell_type": "markdown",
      "metadata": {},
      "source": [
        "# 03 · Laboratorio de clasificación auditiva\n",
        "\n",
        "Objetivos:\n",
        "- Entrenar SVM/RandomForest para tipos de pérdida\n",
        "- Matriz de confusión y métricas"
      ]
    },
    {
      "cell_type": "code",
      "metadata": {},
      "execution_count": null,
      "outputs": [],
      "source": [
        "import pandas as pd\n",
        "import numpy as np\n",
        "from sklearn.model_selection import train_test_split\n",
        "from sklearn.preprocessing import StandardScaler\n",
        "from sklearn.pipeline import make_pipeline\n",
        "from sklearn.svm import SVC\n",
        "from sklearn.ensemble import RandomForestClassifier\n",
        "from sklearn.metrics import confusion_matrix, classification_report\n",
        "\n",
        "df = pd.read_csv('../data/raw/audiograms.csv')\n",
        "# X = df[[...]]  # selecciona features\n",
        "# y = df['tipo_perdida']\n",
        "# X_train, X_test, y_train, y_test = train_test_split(X, y, test_size=0.2, random_state=42)\n",
        "\n",
        "# clf = make_pipeline(StandardScaler(), SVC())  # o RandomForestClassifier()\n",
        "# clf.fit(X_train, y_train)\n",
        "# y_pred = clf.predict(X_test)\n",
        "# print(confusion_matrix(y_test, y_pred))\n",
        "# print(classification_report(y_test, y_pred))"
      ]
    }
  ],
  "metadata": {
    "kernelspec": {
      "display_name": "Python 3",
      "language": "python",
      "name": "python3"
    },
    "language_info": {
      "name": "python",
      "version": "3.10"
    }
  },
  "nbformat": 4,
  "nbformat_minor": 5
}