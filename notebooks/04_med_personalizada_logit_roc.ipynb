{
  "cells": [
    {
      "cell_type": "markdown",
      "metadata": {},
      "source": [
        "# 04 · Medicina personalizada: regresión logística y ROC\n",
        "\n",
        "Objetivos:\n",
        "- Modelo logit para predecir éxito de tratamiento\n",
        "- Curvas ROC"
      ]
    },
    {
      "cell_type": "code",
      "metadata": {},
      "execution_count": null,
      "outputs": [],
      "source": [
        "import pandas as pd\n",
        "import numpy as np\n",
        "from sklearn.model_selection import train_test_split\n",
        "from sklearn.linear_model import LogisticRegression\n",
        "from sklearn.metrics import roc_curve, auc\n",
        "import matplotlib.pyplot as plt\n",
        "\n",
        "df = pd.read_csv('../data/raw/tratamientos.csv')\n",
        "# X = df[[...]]; y = df['resultado_clinico']\n",
        "# X_train, X_test, y_train, y_test = train_test_split(X, y, test_size=0.2, random_state=42)\n",
        "# model = LogisticRegression(max_iter=1000)\n",
        "# model.fit(X_train, y_train)\n",
        "# y_score = model.predict_proba(X_test)[:,1]\n",
        "# fpr, tpr, _ = roc_curve(y_test, y_score)\n",
        "# print('AUC:', auc(fpr, tpr))\n",
        "# plt.plot(fpr, tpr); plt.plot([0,1],[0,1],'--'); plt.xlabel('FPR'); plt.ylabel('TPR'); plt.title('ROC'); plt.show()"
      ]
    }
  ],
  "metadata": {
    "kernelspec": {
      "display_name": "Python 3",
      "language": "python",
      "name": "python3"
    },
    "language_info": {
      "name": "python",
      "version": "3.10"
    }
  },
  "nbformat": 4,
  "nbformat_minor": 5
}