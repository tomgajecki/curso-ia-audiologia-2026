{
  "cells": [
    {
      "cell_type": "markdown",
      "metadata": {},
      "source": [
        "# 07 · Anonimización y sesgos\n",
        "\n",
        "Objetivos:\n",
        "- Demostración de anonimización básica (enmascarado, k-anonymity simple)\n",
        "- Reflexión sobre sesgos"
      ]
    },
    {
      "cell_type": "code",
      "metadata": {},
      "execution_count": null,
      "outputs": [],
      "source": [
        "import pandas as pd\n",
        "\n",
        "df = pd.read_csv('../data/raw/audiograms.csv')\n",
        "\n",
        "# Enmascarado de identificadores (placeholder)\n",
        "# df['id_hash'] = df['id'].astype(str).str.encode('utf-8').map(lambda b: __import__('hashlib').sha256(b).hexdigest()[:10])\n",
        "\n",
        "# k-anonymity simple (placeholder): agrupar edades en bins\n",
        "# df['edad_bin'] = pd.cut(df['edad'], bins=[18,30,45,60,75,90], include_lowest=True)\n",
        "# display(df.head())"
      ]
    },
    {
      "cell_type": "markdown",
      "metadata": {},
      "source": [
        "👉 **Ejercicio:** redacta una nota de 200 palabras sobre riesgos de sesgo y privacidad en tu dataset."
      ]
    }
  ],
  "metadata": {
    "kernelspec": {
      "display_name": "Python 3",
      "language": "python",
      "name": "python3"
    },
    "language_info": {
      "name": "python",
      "version": "3.10"
    }
  },
  "nbformat": 4,
  "nbformat_minor": 5
}