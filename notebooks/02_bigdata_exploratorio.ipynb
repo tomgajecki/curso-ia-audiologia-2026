{
  "cells": [
    {
      "cell_type": "markdown",
      "metadata": {},
      "source": [
        "# 02 · Big Data en salud auditiva (EDA)\n",
        "\n",
        "Objetivos:\n",
        "- Estadísticos descriptivos con pandas\n",
        "- Histogramas y primeras comparaciones (t-test/ANOVA)"
      ]
    },
    {
      "cell_type": "code",
      "metadata": {},
      "execution_count": null,
      "outputs": [],
      "source": [
        "import pandas as pd\n",
        "import numpy as np\n",
        "import matplotlib.pyplot as plt\n",
        "from scipy import stats\n",
        "\n",
        "df = pd.read_csv('../data/raw/audiograms.csv')\n",
        "df.describe(include='all')"
      ]
    },
    {
      "cell_type": "code",
      "metadata": {},
      "execution_count": null,
      "outputs": [],
      "source": [
        "# Histograma de edades (placeholder)\n",
        "# if 'edad' in df: df['edad'].hist(); plt.xlabel('Edad'); plt.ylabel('Frecuencia'); plt.show()"
      ]
    },
    {
      "cell_type": "code",
      "metadata": {},
      "execution_count": null,
      "outputs": [],
      "source": [
        "# Ejemplo de t-test/ANOVA (placeholder)\n",
        "# stats.ttest_ind(grupoA, grupoB, equal_var=False)"
      ]
    }
  ],
  "metadata": {
    "kernelspec": {
      "display_name": "Python 3",
      "language": "python",
      "name": "python3"
    },
    "language_info": {
      "name": "python",
      "version": "3.10"
    }
  },
  "nbformat": 4,
  "nbformat_minor": 5
}