{
  "cells": [
    {
      "cell_type": "markdown",
      "metadata": {},
      "source": [
        "# 05 · Comparación de modelos y tests\n",
        "\n",
        "Objetivos:\n",
        "- Árboles vs MLP pequeño\n",
        "- Comparaciones entre tratamientos (pairwise)"
      ]
    },
    {
      "cell_type": "code",
      "metadata": {},
      "execution_count": null,
      "outputs": [],
      "source": [
        "import pandas as pd\n",
        "import numpy as np\n",
        "from sklearn.model_selection import train_test_split\n",
        "from sklearn.tree import DecisionTreeClassifier\n",
        "from sklearn.neural_network import MLPClassifier\n",
        "from sklearn.metrics import accuracy_score\n",
        "from scipy import stats\n",
        "\n",
        "df = pd.read_csv('../data/raw/tratamientos.csv')\n",
        "# X = df[[...]]; y = df['resultado_clinico']\n",
        "# X_train, X_test, y_train, y_test = train_test_split(X, y, test_size=0.2, random_state=42)\n",
        "# tree = DecisionTreeClassifier().fit(X_train, y_train)\n",
        "# mlp = MLPClassifier(hidden_layer_sizes=(16,), max_iter=500).fit(X_train, y_train)\n",
        "# print('Acc Tree:', accuracy_score(y_test, tree.predict(X_test)))\n",
        "# print('Acc MLP:', accuracy_score(y_test, mlp.predict(X_test)))\n",
        "\n",
        "# Ejemplo pairwise (placeholder)\n",
        "# stats.ttest_ind(grupoA, grupoB, equal_var=False)"
      ]
    }
  ],
  "metadata": {
    "kernelspec": {
      "display_name": "Python 3",
      "language": "python",
      "name": "python3"
    },
    "language_info": {
      "name": "python",
      "version": "3.10"
    }
  },
  "nbformat": 4,
  "nbformat_minor": 5
}