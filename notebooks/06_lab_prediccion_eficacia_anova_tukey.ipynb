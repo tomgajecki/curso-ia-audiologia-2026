{
  "cells": [
    {
      "cell_type": "markdown",
      "metadata": {},
      "source": [
        "# 06 · Predicción de eficacia clínica: ANOVA + Tukey HSD\n",
        "\n",
        "Objetivos:\n",
        "- Boxplots por grupo\n",
        "- ANOVA + post-hoc Tukey (statsmodels)"
      ]
    },
    {
      "cell_type": "code",
      "metadata": {},
      "execution_count": null,
      "outputs": [],
      "source": [
        "import pandas as pd\n",
        "import numpy as np\n",
        "import matplotlib.pyplot as plt\n",
        "import statsmodels.api as sm\n",
        "from statsmodels.formula.api import ols\n",
        "from statsmodels.stats.multicomp import pairwise_tukeyhsd\n",
        "\n",
        "df = pd.read_csv('../data/raw/tratamientos.csv')\n",
        "# plt.boxplot([...]); plt.show()\n",
        "\n",
        "# modelo = ols('resultado ~ C(dispositivo)', data=df).fit()\n",
        "# anova_table = sm.stats.anova_lm(modelo, typ=2)\n",
        "# print(anova_table)\n",
        "# tukey = pairwise_tukeyhsd(endog=df['resultado'], groups=df['dispositivo'], alpha=0.05)\n",
        "# print(tukey)"
      ]
    }
  ],
  "metadata": {
    "kernelspec": {
      "display_name": "Python 3",
      "language": "python",
      "name": "python3"
    },
    "language_info": {
      "name": "python",
      "version": "3.10"
    }
  },
  "nbformat": 4,
  "nbformat_minor": 5
}