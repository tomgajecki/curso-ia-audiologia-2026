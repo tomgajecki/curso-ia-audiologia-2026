{
  "cells": [
    {
      "cell_type": "markdown",
      "metadata": {},
      "source": [
        "# 01 · Introducción a la IA en Audiología — Teoría y práctica de estadística"
      ]
    },
    {
      "cell_type": "markdown",
      "metadata": {},
      "source": [
        "## 🧠 Módulo 0 — Fundamentos de estadística (resumen de teoría)\n",
        "\n",
        "*Descriptiva vs. inferencial, niveles de medida, media/mediana/varianza/DS/IQR, z-scores, TCL, IC y p-valores, correlación ≠ causalidad, y pitfalls comunes.*\n",
        "\n",
        "### 1) ¿Qué es la estadística?\n",
        "- **Descriptiva**: resume lo observado (tablas, medias, gráficos). **No** generaliza.\n",
        "- **Inferencial**: usa una **muestra** para inferir sobre una **población** (IC, contrastes, predicción).\n",
        "- En audiología: describir umbrales por frecuencia vs. estimar el efecto de un ajuste en nuevos pacientes.\n",
        "\n",
        "### 2) Variables y niveles de medida\n",
        "- **Nominal** (categorías sin orden) p. ej., marca de audífono.\n",
        "- **Ordinal** (orden sin intervalos fijos) p. ej., satisfacción baja–media–alta.\n",
        "- **Intervalo** (intervalos fijos, cero no absoluto) p. ej., °C.\n",
        "- **Razón** (intervalos fijos, cero absoluto) p. ej., edad, horas de uso.\n",
        "> Elegir mal el nivel → estadísticas/figuras inadecuadas.\n",
        "\n",
        "### 3) Medidas de tendencia central (centro)\n",
        "- **Media**: \\(\\bar{x}=\\frac{1}{n}\\sum x_i\\). Sensible a outliers.\n",
        "- **Mediana**: punto central. Robusta a outliers.\n",
        "- **Moda**: valor más frecuente.\n",
        "\n",
        "### 4) Medidas de dispersión (variabilidad)\n",
        "- **Rango**: máx − mín.\n",
        "- **Varianza** muestral: \\(s^2=\\frac{1}{n-1}\\sum (x_i-\\bar{x})^2\\).\n",
        "- **Desviación estándar**: \\(s=\\sqrt{s^2}\\).\n",
        "- **IQR**: Q3 − Q1 (robusta).\n",
        "\n",
        "### 5) Forma de la distribución\n",
        "- **Asimetría** y **curtosis**: ayudan a diagnosticar outliers y colas largas.\n",
        "\n",
        "### 6) Estandarización (z-scores)\n",
        "- \\(z_i=\\frac{x_i-\\bar{x}}{s}\\). Útil para detectar valores atípicos (|z|>3).\n",
        "\n",
        "### 7) Muestreo, sesgos y tamaño muestral\n",
        "- Aleatorio vs. conveniencia; tamaños pequeños → IC anchos.\n",
        "\n",
        "### 8) Teorema Central del Límite (TCL)\n",
        "- \\(\\bar{X}\\) ≈ normal para \\(n\\) grande → base de IC/tests sobre medias.\n",
        "\n",
        "### 9) Intervalos de confianza y p-valores\n",
        "- **IC 95%**: rango plausible del parámetro.\n",
        "- **p-valor**: prob. de datos tan/extremos si H0 fuera cierta (no es prob(H0)).\n",
        "- Reportar **tamaño del efecto** + **IC** > solo p-valor.\n",
        "\n",
        "### 10) Correlación ≠ causalidad (confusores)\n",
        "- En audiología: edad puede confundir relación entre sesiones y resultado.\n",
        "\n",
        "### 11) Pitfalls frecuentes\n",
        "- Promediar escalas ordinales como si fueran de intervalo.\n",
        "- Ignorar dependencias (oído/paciente).\n",
        "- Múltiples comparaciones sin corrección."
      ]
    },
    {
      "cell_type": "markdown",
      "metadata": {},
      "source": [
        "## 🛠️ Práctica rápida con audiogramas"
      ]
    },
    {
      "cell_type": "code",
      "metadata": {},
      "execution_count": null,
      "outputs": [],
      "source": [
        "import pandas as pd\n",
        "import numpy as np\n",
        "\n",
        "# Cargar audiogramas (un oído por paciente). Ajusta la ruta si tu estructura difiere.\n",
        "df = pd.read_csv('../data/raw/audiograms.csv')\n",
        "\n",
        "FREQS = [250, 500, 1000, 2000, 4000, 8000]\n",
        "F_COLS = [f\"f{f}\" for f in FREQS]\n",
        "\n",
        "# --- Medidas por paciente ---\n",
        "df['mean_hl'] = df[F_COLS].mean(axis=1)\n",
        "df['median_hl'] = df[F_COLS].median(axis=1)\n",
        "df['sd_hl'] = df[F_COLS].std(axis=1, ddof=1)\n",
        "df['iqr_hl'] = df[F_COLS].quantile(0.75, axis=1) - df[F_COLS].quantile(0.25, axis=1)\n",
        "\n",
        "display(df[['id', 'edad', 'sexo', 'mean_hl', 'median_hl', 'sd_hl', 'iqr_hl']].head())\n",
        "\n",
        "# --- Medidas por frecuencia (todos los pacientes) ---\n",
        "desc_by_freq = df[F_COLS].agg(['mean','median','std','min','max']).T\n",
        "desc_by_freq.index = [c[1:] for c in desc_by_freq.index]  # quitar 'f'\n",
        "display(desc_by_freq)"
      ]
    }
  ],
  "metadata": {
    "kernelspec": {
      "display_name": "Python 3",
      "language": "python",
      "name": "python3"
    },
    "language_info": {
      "name": "python",
      "version": "3.10"
    }
  },
  "nbformat": 4,
  "nbformat_minor": 5
}