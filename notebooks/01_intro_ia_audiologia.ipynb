{
  "cells": [
    {
      "cell_type": "markdown",
      "metadata": {},
      "source": [
        "# 01 · Introducción a la IA en Audiología\n",
        "\n",
        "Objetivos:\n",
        "- Cargar un dataset pequeño de audiogramas simulados\n",
        "- Visualizar curvas audiométricas con matplotlib"
      ]
    },
    {
      "cell_type": "code",
      "metadata": {},
      "execution_count": null,
      "outputs": [],
      "source": [
        "# Imports básicos\n",
        "import pandas as pd\n",
        "import numpy as np\n",
        "import matplotlib.pyplot as plt\n",
        "\n",
        "# Cargar datos\n",
        "df = pd.read_csv('../data/raw/audiograms.csv')\n",
        "df.head()"
      ]
    },
    {
      "cell_type": "markdown",
      "metadata": {},
      "source": [
        "## Visualización de audiogramas (placeholder)\n",
        "Completa con tus reglas de simulación o datos anonimizados."
      ]
    },
    {
      "cell_type": "code",
      "metadata": {},
      "execution_count": null,
      "outputs": [],
      "source": [
        "# Ejemplo de visualización (si hay datos)\n",
        "# Agrupar por id y oido, y trazar umbrales por frecuencia\n",
        "# Rellena cuando cargues datos reales/simulados."
      ]
    }
  ],
  "metadata": {
    "kernelspec": {
      "display_name": "Python 3",
      "language": "python",
      "name": "python3"
    },
    "language_info": {
      "name": "python",
      "version": "3.10"
    }
  },
  "nbformat": 4,
  "nbformat_minor": 5
}